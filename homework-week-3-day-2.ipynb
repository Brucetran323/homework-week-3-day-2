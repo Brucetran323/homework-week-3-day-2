{
 "cells": [
  {
   "cell_type": "markdown",
   "id": "b4f2bfac",
   "metadata": {},
   "source": [
    "# Exercises"
   ]
  },
  {
   "cell_type": "markdown",
   "id": "ccdbd374",
   "metadata": {},
   "source": [
    "# Exercise #1 <br>\n",
    "<p>Filter out all of the empty strings from the list below</p>\n",
    "\n",
    "`Output: ['Argentina', 'San Diego', 'Boston', 'New York']`"
   ]
  },
  {
   "cell_type": "code",
   "execution_count": 2,
   "id": "361d3083",
   "metadata": {},
   "outputs": [
    {
     "data": {
      "text/plain": [
       "['Argentina', 'San Diego', 'Boston', 'New York']"
      ]
     },
     "execution_count": 2,
     "metadata": {},
     "output_type": "execute_result"
    }
   ],
   "source": [
    "places = [\" \",\"Argentina\", \" \", \"San Diego\",\"\",\"  \",\"\",\"Boston\",\"New York\"]\n",
    "\n",
    "def noSpace(list):\n",
    "    for n in list:\n",
    "        if n == \" \":\n",
    "            return False\n",
    "        return True\n",
    "\n",
    "list(filter(noSpace, places))"
   ]
  },
  {
   "cell_type": "markdown",
   "id": "d9d29a70",
   "metadata": {},
   "source": [
    "# Exercise #2\n",
    "Write an anonymous function that sorts this list by the last name...\n",
    "\n",
    "Hint: Use the \".sort()\" method and access the key\"\n",
    "\n",
    "Output: ['Victor aNisimov', 'Gary A.J. Bernstein', 'Joel Carter', 'Andrew P. Garfield', 'David hassELHOFF']"
   ]
  },
  {
   "cell_type": "code",
   "execution_count": 112,
   "id": "ce0de8b5",
   "metadata": {},
   "outputs": [
    {
     "name": "stdout",
     "output_type": "stream",
     "text": [
      "['Victor aNisimov', 'Gary A.J. Bernstein', 'Joel Carter', 'Andrew P. Garfield', 'David hassELHOFF']\n"
     ]
    }
   ],
   "source": [
    "author = [\"Joel Carter\", \"Victor aNisimov\", \"Andrew P. Garfield\",\"David hassELHOFF\",\"Gary A.J. Bernstein\"]\n",
    "\n",
    "\n",
    "\n",
    "def sort_it(names):\n",
    "    names.sort(key = lambda last_name:last_name.split(\" \")[-1].lower())\n",
    "    return names\n",
    "\n",
    "print(sort_it(author))\n",
    "\n"
   ]
  },
  {
   "cell_type": "markdown",
   "id": "8921c64b",
   "metadata": {},
   "source": [
    "# Exercise #3\n",
    "Convert the list below from Celsius to Farhenheit, using the map function with a lambda...\n",
    "\n",
    "Output: [('Nashua', 89.6), ('Boston', 53.6), ('Los Angelos', 111.2), ('Miami', 84.2)]"
   ]
  },
  {
   "cell_type": "code",
   "execution_count": 71,
   "id": "66805a7e",
   "metadata": {},
   "outputs": [
    {
     "name": "stdout",
     "output_type": "stream",
     "text": [
      "Cities in C\n",
      "[('Nashua', 32), ('Boston', 12), ('Los Angelos', 44), ('Miami', 29)]\n",
      "\n",
      "Cities in F\n",
      "[('Nashua', 89.6), ('Boston', 53.6), ('Los Angelos', 111.2), ('Miami', 84.2)]\n",
      "\n",
      "Cities by name\n",
      "[('Boston', 53.6), ('Los Angelos', 111.2), ('Miami', 84.2), ('Nashua', 89.6)]\n",
      "\n",
      "Cities from highest to lowest temps in F\n",
      "[('Los Angelos', 111.2), ('Nashua', 89.6), ('Miami', 84.2), ('Boston', 53.6)]\n",
      "\n",
      "Cities from lowest to highest temps in F\n",
      "[('Boston', 53.6), ('Miami', 84.2), ('Nashua', 89.6), ('Los Angelos', 111.2)]\n"
     ]
    }
   ],
   "source": [
    "# F = (9/5)*C + 32\n",
    "places = [('Nashua',32),\n",
    "          (\"Boston\",12),\n",
    "          (\"Los Angelos\",44),\n",
    "          (\"Miami\",29)]\n",
    "\n",
    "print(\"Cities in C\")\n",
    "print(places)\n",
    "print(\"\\nCities in F\")\n",
    "y = list(map(lambda x: (x[0] , (9/5) * x[1] + 32), places))\n",
    "print(y)\n",
    "# sort city by name\n",
    "print(\"\\nCities by name\")\n",
    "city = lambda y:y[0]\n",
    "y.sort(key = city)\n",
    "print(y)\n",
    "\n",
    "\n",
    "# sort by highest temp in F\n",
    "print(\"\\nCities from highest to lowest temps in F\")\n",
    "temp = lambda y:y[1]\n",
    "y.sort(key = temp, reverse = True)\n",
    "print(y)\n",
    "\n",
    "\n",
    "# sort lowest temp in F\n",
    "print(\"\\nCities from lowest to highest temps in F\")\n",
    "low_temp = lambda y:y[1]\n",
    "y.sort(key = low_temp)\n",
    "print(y)"
   ]
  },
  {
   "cell_type": "markdown",
   "id": "d3b61a46",
   "metadata": {},
   "source": [
    "### Exercise #4 <br>\n",
    "<p>Write a recursion function to perform the fibonacci sequence up to the number passed in.</p>\n",
    "\n",
    "`Output for fib(5) => \n",
    "Iteration 0: 1\n",
    "Iteration 1: 1\n",
    "Iteration 2: 2\n",
    "Iteration 3: 3\n",
    "Iteration 4: 5\n",
    "Iteration 5: 8`"
   ]
  },
  {
   "cell_type": "code",
   "execution_count": 113,
   "id": "99076972",
   "metadata": {},
   "outputs": [
    {
     "name": "stdout",
     "output_type": "stream",
     "text": [
      "Iteration 0: 0\n",
      "Iteration 1: 1\n",
      "Iteration 2: 1\n",
      "Iteration 3: 2\n",
      "Iteration 4: 3\n",
      "Iteration 5: 5\n",
      "Iteration 6: 8\n",
      "Iteration 7: 13\n",
      "Iteration 8: 21\n",
      "Iteration 9: 34\n",
      "Iteration 10: 55\n"
     ]
    }
   ],
   "source": [
    "# Base case - \n",
    "# \n",
    "\n",
    "# def fib(num):\n",
    "#     if num <= 1:\n",
    "#         return 1\n",
    "#     else:\n",
    "#         return fib(num - 1) + fib(num - 2)\n",
    "\n",
    "# fib(4)\n",
    "\n",
    "def fib(num):\n",
    "    if num > 1:\n",
    "        return fib(num-1) + fib(num-2)\n",
    "    return num\n",
    "for i in range(11):\n",
    "    print(f\"Iteration {i}: {fib(i)}\")\n",
    "\n",
    "\n",
    "\n",
    "# def fibBoi(start):\n",
    "#     for z in range(start + 1):\n",
    "#         print(f\"Itteration: {z}: \")\n",
    "    \n",
    "        \n",
    "# fibBoi(5)\n"
   ]
  },
  {
   "cell_type": "code",
   "execution_count": null,
   "id": "29ce5baf",
   "metadata": {},
   "outputs": [],
   "source": [
    "+"
   ]
  }
 ],
 "metadata": {
  "kernelspec": {
   "display_name": "Python 3 (ipykernel)",
   "language": "python",
   "name": "python3"
  },
  "language_info": {
   "codemirror_mode": {
    "name": "ipython",
    "version": 3
   },
   "file_extension": ".py",
   "mimetype": "text/x-python",
   "name": "python",
   "nbconvert_exporter": "python",
   "pygments_lexer": "ipython3",
   "version": "3.9.13"
  }
 },
 "nbformat": 4,
 "nbformat_minor": 5
}
